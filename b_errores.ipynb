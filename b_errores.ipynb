{
 "cells": [
  {
   "cell_type": "code",
   "execution_count": 7,
   "id": "2fab3fa6",
   "metadata": {},
   "outputs": [
    {
     "name": "stdout",
     "output_type": "stream",
     "text": [
      "Error de division de 0 division by zero\n",
      "ya nada\n"
     ]
    }
   ],
   "source": [
    "try:\n",
    "    0/0 # <- DEJO DE FUNCIONAR\n",
    "    hola # <- DEJO DE FUNCIONAR EL CODIGO\n",
    "    #..\n",
    "    #..\n",
    "    #..\n",
    "    #..\n",
    "    #..\n",
    "except ZeroDivisionError as error:\n",
    "    print(f\"Error de division de 0 {error}\")\n",
    "except (RuntimeError, TypeError, NameError) as error:\n",
    "    print(f\"Errores de Codigo {error}\")\n",
    "except:\n",
    "    print(\"Error\")\n",
    "finally:\n",
    "    print(\"ya nada\")"
   ]
  },
  {
   "cell_type": "code",
   "execution_count": 4,
   "id": "72debbff",
   "metadata": {},
   "outputs": [
    {
     "ename": "ZeroDivisionError",
     "evalue": "division by zero",
     "output_type": "error",
     "traceback": [
      "\u001b[0;31m---------------------------------------------------------------------------\u001b[0m",
      "\u001b[0;31mZeroDivisionError\u001b[0m                         Traceback (most recent call last)",
      "\u001b[0;32m<ipython-input-4-9ab73e148374>\u001b[0m in \u001b[0;36m<module>\u001b[0;34m\u001b[0m\n\u001b[0;32m----> 1\u001b[0;31m \u001b[0;36m0\u001b[0m\u001b[0;34m/\u001b[0m\u001b[0;36m0\u001b[0m\u001b[0;34m\u001b[0m\u001b[0;34m\u001b[0m\u001b[0m\n\u001b[0m",
      "\u001b[0;31mZeroDivisionError\u001b[0m: division by zero"
     ]
    }
   ],
   "source": []
  },
  {
   "cell_type": "code",
   "execution_count": null,
   "id": "22c4ddc9",
   "metadata": {},
   "outputs": [],
   "source": []
  }
 ],
 "metadata": {
  "kernelspec": {
   "display_name": "Python 3",
   "language": "python",
   "name": "python3"
  },
  "language_info": {
   "codemirror_mode": {
    "name": "ipython",
    "version": 3
   },
   "file_extension": ".py",
   "mimetype": "text/x-python",
   "name": "python",
   "nbconvert_exporter": "python",
   "pygments_lexer": "ipython3",
   "version": "3.8.8"
  }
 },
 "nbformat": 4,
 "nbformat_minor": 5
}
